{
  "nbformat": 4,
  "nbformat_minor": 0,
  "metadata": {
    "colab": {
      "provenance": [],
      "authorship_tag": "ABX9TyPafSoaB9+1cLumRkUEmDKW",
      "include_colab_link": true
    },
    "kernelspec": {
      "name": "python3",
      "display_name": "Python 3"
    },
    "language_info": {
      "name": "python"
    },
    "accelerator": "GPU",
    "gpuClass": "standard"
  },
  "cells": [
    {
      "cell_type": "markdown",
      "metadata": {
        "id": "view-in-github",
        "colab_type": "text"
      },
      "source": [
        "<a href=\"https://colab.research.google.com/github/ranjeev3000/TensorFlow-Handson/blob/main/04_transfer_learning_in_tensorflow_part_1_feature_extraction.ipynb\" target=\"_parent\"><img src=\"https://colab.research.google.com/assets/colab-badge.svg\" alt=\"Open In Colab\"/></a>"
      ]
    },
    {
      "cell_type": "markdown",
      "source": [
        "\n",
        "# Transfer Learning with Tensorflow part 1: Feature Extraction\n",
        "\n",
        "Transfer learning is leveraging a working model's existing architecture and lern patterns for our own problems.'\n",
        "\n",
        "\n",
        "There are two main benefits:\n",
        "1. Can leverage an exisinsting neural networks architecture proven to work on problems similar to own.\n",
        "2, Can leverage a working neural networks ehich has already learn patterns on similar data to our own, then we can adopt those patterns to our own.\n"
      ],
      "metadata": {
        "id": "7OKsfndK--Il"
      }
    },
    {
      "cell_type": "code",
      "source": [
        "# Are we using a GPU?\n",
        "!nvidia-smi"
      ],
      "metadata": {
        "colab": {
          "base_uri": "https://localhost:8080/"
        },
        "id": "p39wMAECEy5e",
        "outputId": "ac6340bb-5a1f-4383-9ee5-f52ab60a2c00"
      },
      "execution_count": 1,
      "outputs": [
        {
          "output_type": "stream",
          "name": "stdout",
          "text": [
            "Fri Feb  3 18:50:13 2023       \n",
            "+-----------------------------------------------------------------------------+\n",
            "| NVIDIA-SMI 510.47.03    Driver Version: 510.47.03    CUDA Version: 11.6     |\n",
            "|-------------------------------+----------------------+----------------------+\n",
            "| GPU  Name        Persistence-M| Bus-Id        Disp.A | Volatile Uncorr. ECC |\n",
            "| Fan  Temp  Perf  Pwr:Usage/Cap|         Memory-Usage | GPU-Util  Compute M. |\n",
            "|                               |                      |               MIG M. |\n",
            "|===============================+======================+======================|\n",
            "|   0  Tesla T4            Off  | 00000000:00:04.0 Off |                    0 |\n",
            "| N/A   69C    P0    30W /  70W |      0MiB / 15360MiB |      0%      Default |\n",
            "|                               |                      |                  N/A |\n",
            "+-------------------------------+----------------------+----------------------+\n",
            "                                                                               \n",
            "+-----------------------------------------------------------------------------+\n",
            "| Processes:                                                                  |\n",
            "|  GPU   GI   CI        PID   Type   Process name                  GPU Memory |\n",
            "|        ID   ID                                                   Usage      |\n",
            "|=============================================================================|\n",
            "|  No running processes found                                                 |\n",
            "+-----------------------------------------------------------------------------+\n"
          ]
        }
      ]
    },
    {
      "cell_type": "markdown",
      "source": [
        "## Downloading and becoming one with the Data"
      ],
      "metadata": {
        "id": "hncvUaplFIbQ"
      }
    },
    {
      "cell_type": "code",
      "source": [
        "# Get Data (10% of food classes from Food-101)\n",
        "import zipfile\n",
        "\n",
        "# Download the data\n",
        "!wget https://storage.googleapis.com/ztm_tf_course/food_vision/10_food_classes_10_percent.zip\n",
        "\n",
        "# Unzip the downloaded file\n",
        "zip_ref = zipfile.ZipFile(\"10_food_classes_10_percent.zip\")\n",
        "zip_ref.extractall()\n",
        "zip_ref.close()"
      ],
      "metadata": {
        "colab": {
          "base_uri": "https://localhost:8080/"
        },
        "id": "x4YvckZuFIXz",
        "outputId": "78632c15-2a41-44a5-c673-3c6137004186"
      },
      "execution_count": 2,
      "outputs": [
        {
          "output_type": "stream",
          "name": "stdout",
          "text": [
            "--2023-02-03 18:50:13--  https://storage.googleapis.com/ztm_tf_course/food_vision/10_food_classes_10_percent.zip\n",
            "Resolving storage.googleapis.com (storage.googleapis.com)... 74.125.199.128, 74.125.20.128, 108.177.98.128, ...\n",
            "Connecting to storage.googleapis.com (storage.googleapis.com)|74.125.199.128|:443... connected.\n",
            "HTTP request sent, awaiting response... 200 OK\n",
            "Length: 168546183 (161M) [application/zip]\n",
            "Saving to: ‘10_food_classes_10_percent.zip’\n",
            "\n",
            "10_food_classes_10_ 100%[===================>] 160.74M   165MB/s    in 1.0s    \n",
            "\n",
            "2023-02-03 18:50:14 (165 MB/s) - ‘10_food_classes_10_percent.zip’ saved [168546183/168546183]\n",
            "\n"
          ]
        }
      ]
    },
    {
      "cell_type": "code",
      "source": [
        "# How many images in each folder?\n",
        "import os\n",
        "\n",
        "# Walk through 10 percent data directory and list number of files\n",
        "for dirpath, dirnames, filenames in os.walk(\"10_food_classes_10_percent\"):\n",
        "  print(f\"There are {len(dirnames)} directories and {len(filenames)} images in '{dirpath}'.\") "
      ],
      "metadata": {
        "colab": {
          "base_uri": "https://localhost:8080/"
        },
        "id": "lME1tENVFIQT",
        "outputId": "09e64876-a325-43fc-b4d6-cc0a12233439"
      },
      "execution_count": 3,
      "outputs": [
        {
          "output_type": "stream",
          "name": "stdout",
          "text": [
            "There are 2 directories and 0 images in '10_food_classes_10_percent'.\n",
            "There are 10 directories and 0 images in '10_food_classes_10_percent/test'.\n",
            "There are 0 directories and 250 images in '10_food_classes_10_percent/test/steak'.\n",
            "There are 0 directories and 250 images in '10_food_classes_10_percent/test/hamburger'.\n",
            "There are 0 directories and 250 images in '10_food_classes_10_percent/test/chicken_wings'.\n",
            "There are 0 directories and 250 images in '10_food_classes_10_percent/test/pizza'.\n",
            "There are 0 directories and 250 images in '10_food_classes_10_percent/test/fried_rice'.\n",
            "There are 0 directories and 250 images in '10_food_classes_10_percent/test/ice_cream'.\n",
            "There are 0 directories and 250 images in '10_food_classes_10_percent/test/chicken_curry'.\n",
            "There are 0 directories and 250 images in '10_food_classes_10_percent/test/ramen'.\n",
            "There are 0 directories and 250 images in '10_food_classes_10_percent/test/grilled_salmon'.\n",
            "There are 0 directories and 250 images in '10_food_classes_10_percent/test/sushi'.\n",
            "There are 10 directories and 0 images in '10_food_classes_10_percent/train'.\n",
            "There are 0 directories and 75 images in '10_food_classes_10_percent/train/steak'.\n",
            "There are 0 directories and 75 images in '10_food_classes_10_percent/train/hamburger'.\n",
            "There are 0 directories and 75 images in '10_food_classes_10_percent/train/chicken_wings'.\n",
            "There are 0 directories and 75 images in '10_food_classes_10_percent/train/pizza'.\n",
            "There are 0 directories and 75 images in '10_food_classes_10_percent/train/fried_rice'.\n",
            "There are 0 directories and 75 images in '10_food_classes_10_percent/train/ice_cream'.\n",
            "There are 0 directories and 75 images in '10_food_classes_10_percent/train/chicken_curry'.\n",
            "There are 0 directories and 75 images in '10_food_classes_10_percent/train/ramen'.\n",
            "There are 0 directories and 75 images in '10_food_classes_10_percent/train/grilled_salmon'.\n",
            "There are 0 directories and 75 images in '10_food_classes_10_percent/train/sushi'.\n"
          ]
        }
      ]
    },
    {
      "cell_type": "markdown",
      "source": [
        "## Creating data loaders (preparing the data)\n",
        "\n",
        "We'll use the `ImageDataGenerator` class to load our images in batches:"
      ],
      "metadata": {
        "id": "WHwYGEH8FIN7"
      }
    },
    {
      "cell_type": "code",
      "source": [
        "# Setup data inpiuts\n",
        "from tensorflow.keras.preprocessing.image import ImageDataGenerator\n",
        "\n",
        "IMG_SHAPE = (224,224)\n",
        "BATCH_SIZE = 32\n",
        "\n",
        "\n",
        "train_dir = \"10_food_classes_10_percent/train/\"\n",
        "test_dir = \"10_food_classes_10_percent/test/\"\n",
        "\n",
        "\n",
        "train_datagen = ImageDataGenerator(rescale = 1/255.)\n",
        "test_datagen = ImageDataGenerator(rescale = 1/255.)\n",
        "\n",
        "\n",
        "print(\"Training_Images\")\n",
        "train_data_10_percent = train_datagen.flow_from_directory(train_dir,\n",
        "                                                          target_size = IMG_SHAPE,\n",
        "                                                          batch_size = BATCH_SIZE,\n",
        "                                                          class_mode='categorical')\n",
        " \n",
        "print(\"Testing_Images\")\n",
        "test_data = test_datagen.flow_from_directory(test_dir,\n",
        "                                             target_size = IMG_SHAPE,\n",
        "                                              batch_size = BATCH_SIZE,\n",
        "                                             class_mode=\"categorical\")"
      ],
      "metadata": {
        "colab": {
          "base_uri": "https://localhost:8080/"
        },
        "id": "gvW-sDKWFILb",
        "outputId": "2f5e3d6d-65cd-4987-cf04-f078dd7316e3"
      },
      "execution_count": 4,
      "outputs": [
        {
          "output_type": "stream",
          "name": "stdout",
          "text": [
            "Training_Images\n",
            "Found 750 images belonging to 10 classes.\n",
            "Testing_Images\n",
            "Found 2500 images belonging to 10 classes.\n"
          ]
        }
      ]
    },
    {
      "cell_type": "markdown",
      "source": [
        "## Setting up Callbacks (things to learn whilst our model learns)\n",
        "\n",
        "Callbacks are extra functionality you can add to your models to be performed during or after training. Some of the most popular callbacks:\n",
        "\n",
        "* Tracking experiments with the TensorBoard callback.\n",
        "* Model Checkpoint with the ModelCheckpoint callback.\n",
        "* Stopping a model from training (before it trains too long and overfits) with the EarlyStopping callback"
      ],
      "metadata": {
        "id": "AkqnaCvSFII2"
      }
    },
    {
      "cell_type": "code",
      "source": [
        "# Create TensorBoard Callback (functionalized because we need to create a new one for each model)\n",
        "\n",
        "import datetime\n",
        "\n",
        "def create_tensorboard_callback(dir_name, experiment_name):\n",
        "  log_dir = dir_name + \"/\" + experiment_name+ \"/\" +datetime.datetime.now().strftime(\"%Y%m%d-%H%M%S\")\n",
        "  tensorboard_callback = tf.keras.callbacks.TensorBoard(log_dir=log_dir)\n",
        "  print(f\"Saving TensorBoard log files to: {log_dir}\")\n",
        "  return tensorboard_callback"
      ],
      "metadata": {
        "id": "nX0WZ_QOFIGX"
      },
      "execution_count": 5,
      "outputs": []
    },
    {
      "cell_type": "markdown",
      "source": [
        "## Creating models using tensorFlow hub\n",
        "\n",
        "In the past we've used Tensorflow to create our own models layer by layer from scratch.\n",
        "\n",
        "Now we're going to do a similar process except majority of our model's layers are going to come from Tensorflow Hub.\n",
        "\n",
        "We can access pretrained model on: https://tfhub.dev/\n",
        "\n",
        "Browsing the TensorFlow Hub Page and sorting for image classification, we found following feature vector model link: https://tfhub.dev/tensorflow/efficientnet/b0/feature-vector/1"
      ],
      "metadata": {
        "id": "K2aTJ-RRFID6"
      }
    },
    {
      "cell_type": "code",
      "source": [
        "# Let's compare the following two models\n",
        "resnet_url = 'https://tfhub.dev/google/imagenet/resnet_v2_50/feature_vector/5'\n",
        "\n",
        "efficientnet_url = 'https://tfhub.dev/tensorflow/efficientnet/b0/feature-vector/1'"
      ],
      "metadata": {
        "id": "UcZDxLRYM76h"
      },
      "execution_count": 6,
      "outputs": []
    },
    {
      "cell_type": "code",
      "source": [
        "# Import dependencies\n",
        "import tensorflow as tf\n",
        "import tensorflow_hub as hub\n",
        "from tensorflow.keras import layers"
      ],
      "metadata": {
        "id": "4aHJoBFVFIBa"
      },
      "execution_count": 7,
      "outputs": []
    },
    {
      "cell_type": "code",
      "source": [
        "# Let's make a create_model() function to create a model from URL\n",
        "def create_model(model_url, num_classes=10):\n",
        "  \"\"\"\n",
        "  Takes a TensorFlow Hub Url and creates a Keras Sequential model with it.\n",
        "\n",
        "  Args:\n",
        "    model_url (str): A TensorFlow Hub feature extraction URL.\n",
        "    num_classes (int): Number of output neurons in a output layer, should be equal to number of target classes, default 10\n",
        "\n",
        "  Returns:\n",
        "    An uncompiled Keras Sequential model with model_url as feature extractor layer\n",
        "    and Dense output layer with num_classes output neurons. \n",
        "  \"\"\"\n",
        "  # Download the pretrained model and save it as a Keras layer\n",
        "  feature_extractor_layer = hub.KerasLayer(model_url,\n",
        "                                           trainable =False,  # Freeze the already learned patterns\n",
        "                                           name=\"feature_extraction_layer\",\n",
        "                                          input_shape = IMG_SHAPE+(3,))\n",
        "  # Create our own model\n",
        "  model = tf.keras.Sequential([\n",
        "      feature_extractor_layer,\n",
        "      layers.Dense(num_classes,activation=\"softmax\", name=\"output_layer\")\n",
        "  ])\n",
        "\n",
        "  return model\n"
      ],
      "metadata": {
        "id": "w5vmwyBJM7_4"
      },
      "execution_count": 8,
      "outputs": []
    },
    {
      "cell_type": "markdown",
      "source": [
        "### Creating and testing resNet TensorFlow Hub Feature Extraction model"
      ],
      "metadata": {
        "id": "do2z6UVnY1U6"
      }
    },
    {
      "cell_type": "code",
      "source": [
        "# Create Resnet model\n",
        "resnet_model = create_model(resnet_url,\n",
        "                            num_classes=train_data_10_percent.num_classes)"
      ],
      "metadata": {
        "id": "804TllGPXHm6"
      },
      "execution_count": 9,
      "outputs": []
    },
    {
      "cell_type": "code",
      "source": [
        "# Compile our resnet model\n",
        "resnet_model.compile(loss=\"categorical_crossentropy\",\n",
        "                     optimizer= tf.keras.optimizers.Adam(),\n",
        "                     metrics=[\"accuracy\"])\n"
      ],
      "metadata": {
        "id": "yAGup4WOaDda"
      },
      "execution_count": 10,
      "outputs": []
    },
    {
      "cell_type": "code",
      "source": [
        "# Let's fit our Resnet model to the Data\n",
        "resnet_history = resnet_model.fit(train_data_10_percent,\n",
        "                                  epochs=5,\n",
        "                                  steps_per_epoch= len(train_data_10_percent),\n",
        "                                  validation_data = test_data,\n",
        "                                  validation_steps=len(test_data),\n",
        "                                  callbacks=[create_tensorboard_callback(dir_name=\"tensorflow_hub\",\n",
        "                                                                      experiment_name=\"resnet50v2\"\n",
        "                                                                      )])"
      ],
      "metadata": {
        "colab": {
          "base_uri": "https://localhost:8080/"
        },
        "id": "cI2Zrn6vaC5e",
        "outputId": "6bac7c54-7175-4cb2-b7fa-c754259b1b76"
      },
      "execution_count": 11,
      "outputs": [
        {
          "output_type": "stream",
          "name": "stdout",
          "text": [
            "Saving TensorBoard log files to: tensorflow_hub/resnet50v2/20230203-185027\n",
            "Epoch 1/5\n",
            "24/24 [==============================] - 32s 743ms/step - loss: 1.9432 - accuracy: 0.3600 - val_loss: 1.2289 - val_accuracy: 0.6072\n",
            "Epoch 2/5\n",
            "24/24 [==============================] - 16s 675ms/step - loss: 0.9342 - accuracy: 0.7160 - val_loss: 0.8717 - val_accuracy: 0.7236\n",
            "Epoch 3/5\n",
            "24/24 [==============================] - 16s 707ms/step - loss: 0.6282 - accuracy: 0.8200 - val_loss: 0.7389 - val_accuracy: 0.7640\n",
            "Epoch 4/5\n",
            "24/24 [==============================] - 16s 671ms/step - loss: 0.4866 - accuracy: 0.8600 - val_loss: 0.6857 - val_accuracy: 0.7780\n",
            "Epoch 5/5\n",
            "24/24 [==============================] - 16s 683ms/step - loss: 0.3879 - accuracy: 0.9027 - val_loss: 0.6921 - val_accuracy: 0.7760\n"
          ]
        }
      ]
    },
    {
      "cell_type": "code",
      "source": [
        "resnet_model.summary()"
      ],
      "metadata": {
        "colab": {
          "base_uri": "https://localhost:8080/"
        },
        "id": "J5qL1LKcWmmi",
        "outputId": "ec568d28-2325-42cc-ca1c-e3da87a7cc54"
      },
      "execution_count": 12,
      "outputs": [
        {
          "output_type": "stream",
          "name": "stdout",
          "text": [
            "Model: \"sequential\"\n",
            "_________________________________________________________________\n",
            " Layer (type)                Output Shape              Param #   \n",
            "=================================================================\n",
            " feature_extraction_layer (K  (None, 2048)             23564800  \n",
            " erasLayer)                                                      \n",
            "                                                                 \n",
            " output_layer (Dense)        (None, 10)                20490     \n",
            "                                                                 \n",
            "=================================================================\n",
            "Total params: 23,585,290\n",
            "Trainable params: 20,490\n",
            "Non-trainable params: 23,564,800\n",
            "_________________________________________________________________\n"
          ]
        }
      ]
    },
    {
      "cell_type": "markdown",
      "source": [
        "wow...\n",
        "\n",
        "That is incredible !!!!\n",
        "\n",
        "Our Transfer learning feature extractor model outperforms all of the previou models we built by hand... (substantially) and in a quicker training time and with only 10% of the training examples."
      ],
      "metadata": {
        "id": "ejeAic3bXHuC"
      }
    },
    {
      "cell_type": "code",
      "source": [
        "# Let's create a function to plot our loss curve\n",
        "# Tidbit: you could put a function like this into a script called \"helper.py\" and import it hen you need it....\n",
        "import matplotlib.pyplot as plt\n",
        "\n",
        "# Plot our validation and training curves\n",
        "def plot_loss_curves(history):\n",
        "  \"\"\"\n",
        "  Returns separate loss curves for training and validation metrics.\n",
        "\n",
        "  Args:\n",
        "    history: TensorFlow History object.\n",
        "\n",
        "  Returns:\n",
        "    Plots of training/validation loss and accuracy metrics.\n",
        "  \"\"\"\n",
        "  loss = history.history[\"loss\"]\n",
        "  val_loss = history.history[\"val_loss\"]\n",
        "\n",
        "  accuracy = history.history[\"accuracy\"]\n",
        "  val_accuracy = history.history[\"val_accuracy\"]\n",
        "\n",
        "  epochs = range(len(history.history[\"loss\"]))\n",
        "\n",
        "  # Plot loss\n",
        "  plt.plot(epochs, loss, label=\"training_loss\")\n",
        "  plt.plot(epochs, val_loss, label=\"val_loss\")\n",
        "  plt.title(\"Loss\")\n",
        "  plt.xlabel(\"Epochs\")\n",
        "  plt.legend()\n",
        "\n",
        "  # Plot accuracy\n",
        "  plt.figure()\n",
        "  plt.plot(epochs, accuracy, label=\"training_accuracy\")\n",
        "  plt.plot(epochs, val_accuracy, label=\"val_accuracy\")\n",
        "  plt.title(\"Accuracy\")\n",
        "  plt.xlabel(\"Epochs\")\n",
        "  plt.legend();"
      ],
      "metadata": {
        "id": "dJKH494rWmjv"
      },
      "execution_count": 13,
      "outputs": []
    },
    {
      "cell_type": "code",
      "source": [
        "plot_loss_curves(resnet_history)"
      ],
      "metadata": {
        "colab": {
          "base_uri": "https://localhost:8080/",
          "height": 573
        },
        "id": "wta7Z1TuXH1N",
        "outputId": "122cef8b-6b23-4aa1-926e-634a1eadb957"
      },
      "execution_count": 14,
      "outputs": [
        {
          "output_type": "display_data",
          "data": {
            "text/plain": [
              "<Figure size 432x288 with 1 Axes>"
            ],
            "image/png": "[encoded data removed]"
          },
          "metadata": {
            "needs_background": "light"
          }
        },
        {
          "output_type": "display_data",
          "data": {
            "text/plain": [
              "<Figure size 432x288 with 1 Axes>"
            ],
            "image/png": "[encoded data removed]"
          },
          "metadata": {
            "needs_background": "light"
          }
        }
      ]
    },
    {
      "cell_type": "markdown",
      "source": [
        "### Creating and testing EfficientNetB0 TensorFlow Hub Feature Extraction model"
      ],
      "metadata": {
        "id": "o8YxUJAXWmhU"
      }
    },
    {
      "cell_type": "code",
      "source": [
        "# Create EfficientNetB0 Feature Extractor Model\n",
        "efficientnet_model = create_model(model_url=efficientnet_url,\n",
        "                                  num_classes=train_data_10_percent.num_classes)\n",
        "\n",
        "# Compile EfficientNet model\n",
        "efficientnet_model.compile(loss=\"categorical_crossentropy\",\n",
        "                           optimizer=tf.keras.optimizers.Adam(),\n",
        "                           metrics=[\"accuracy\"])\n",
        "\n",
        "# Fit EfficientNet model to 10% of training data\n",
        "efficientnet_history = efficientnet_model.fit(train_data_10_percent,\n",
        "                                              epochs=5,\n",
        "                                              steps_per_epoch=len(train_data_10_percent),\n",
        "                                              validation_data=test_data,\n",
        "                                              validation_steps = len(test_data),\n",
        "                                              callbacks= create_tensorboard_callback(dir_name=\"tensorflow_hub\",\n",
        "                                                                                     experiment_name=\"efficientnetb0\")\n",
        "                                              )"
      ],
      "metadata": {
        "colab": {
          "base_uri": "https://localhost:8080/"
        },
        "id": "HDDZqBE3XH7o",
        "outputId": "37e0f3c7-72ab-4554-d005-d242e5ccf9e3"
      },
      "execution_count": 15,
      "outputs": [
        {
          "output_type": "stream",
          "name": "stdout",
          "text": [
            "Saving TensorBoard log files to: tensorflow_hub/efficientnetb0/20230203-185230\n",
            "Epoch 1/5\n",
            "24/24 [==============================] - 36s 1s/step - loss: 1.9026 - accuracy: 0.4160 - val_loss: 1.3138 - val_accuracy: 0.7308\n",
            "Epoch 2/5\n",
            "24/24 [==============================] - 17s 740ms/step - loss: 1.0771 - accuracy: 0.7667 - val_loss: 0.8681 - val_accuracy: 0.8176\n",
            "Epoch 3/5\n",
            "24/24 [==============================] - 25s 1s/step - loss: 0.7631 - accuracy: 0.8307 - val_loss: 0.6974 - val_accuracy: 0.8416\n",
            "Epoch 4/5\n",
            "24/24 [==============================] - 25s 1s/step - loss: 0.6123 - accuracy: 0.8560 - val_loss: 0.6134 - val_accuracy: 0.8564\n",
            "Epoch 5/5\n",
            "24/24 [==============================] - 15s 645ms/step - loss: 0.5146 - accuracy: 0.8853 - val_loss: 0.5566 - val_accuracy: 0.8616\n"
          ]
        }
      ]
    },
    {
      "cell_type": "code",
      "source": [
        "plot_loss_curves(efficientnet_history)"
      ],
      "metadata": {
        "colab": {
          "base_uri": "https://localhost:8080/",
          "height": 573
        },
        "id": "S5fNph8gWmer",
        "outputId": "120d836f-73da-491b-ed30-f486af4ab935"
      },
      "execution_count": 16,
      "outputs": [
        {
          "output_type": "display_data",
          "data": {
            "text/plain": [
              "<Figure size 432x288 with 1 Axes>"
            ],
            "image/png": "[encoded data removed]"
          },
          "metadata": {
            "needs_background": "light"
          }
        },
        {
          "output_type": "display_data",
          "data": {
            "text/plain": [
              "<Figure size 432x288 with 1 Axes>"
            ],
            "image/png": "[encoded data removed]"
          },
          "metadata": {
            "needs_background": "light"
          }
        }
      ]
    },
    {
      "cell_type": "code",
      "source": [
        "efficientnet_model.summary()"
      ],
      "metadata": {
        "colab": {
          "base_uri": "https://localhost:8080/"
        },
        "id": "gEjMX8NMXICx",
        "outputId": "f93b113f-d5c0-43ba-a41c-c2c1364b9adc"
      },
      "execution_count": 17,
      "outputs": [
        {
          "output_type": "stream",
          "name": "stdout",
          "text": [
            "Model: \"sequential_1\"\n",
            "_________________________________________________________________\n",
            " Layer (type)                Output Shape              Param #   \n",
            "=================================================================\n",
            " feature_extraction_layer (K  (None, 1280)             4049564   \n",
            " erasLayer)                                                      \n",
            "                                                                 \n",
            " output_layer (Dense)        (None, 10)                12810     \n",
            "                                                                 \n",
            "=================================================================\n",
            "Total params: 4,062,374\n",
            "Trainable params: 12,810\n",
            "Non-trainable params: 4,049,564\n",
            "_________________________________________________________________\n"
          ]
        }
      ]
    },
    {
      "cell_type": "code",
      "source": [
        "resnet_model.summary()"
      ],
      "metadata": {
        "colab": {
          "base_uri": "https://localhost:8080/"
        },
        "id": "uYiqiDdDWmcF",
        "outputId": "089b75ef-7183-491b-cbbb-a9dffe482925"
      },
      "execution_count": 18,
      "outputs": [
        {
          "output_type": "stream",
          "name": "stdout",
          "text": [
            "Model: \"sequential\"\n",
            "_________________________________________________________________\n",
            " Layer (type)                Output Shape              Param #   \n",
            "=================================================================\n",
            " feature_extraction_layer (K  (None, 2048)             23564800  \n",
            " erasLayer)                                                      \n",
            "                                                                 \n",
            " output_layer (Dense)        (None, 10)                20490     \n",
            "                                                                 \n",
            "=================================================================\n",
            "Total params: 23,585,290\n",
            "Trainable params: 20,490\n",
            "Non-trainable params: 23,564,800\n",
            "_________________________________________________________________\n"
          ]
        }
      ]
    },
    {
      "cell_type": "markdown",
      "source": [
        "## Different types of transfer learning\n",
        "\n",
        "*  **\"As is\" transfer learning** - using an existing model with no changes what so ever (e.g. using Imagenet model on 1000 ImageNet classes, none of your own).\n",
        "* **\"Feature extraction\"** transfer learning - use the prelearned patterns of an existing model (e.g. EfficientNetB0 trained on ImageNet) and adjust the output layer for your own problem (e.g. 1000 classes -> 10 classes of food)\n",
        "* **\"Fine-tuning\" transfer learning** - use the prelearned patterns of an existing model and \"fine-tune\" many or all of the underlying layers ( including new output layers)"
      ],
      "metadata": {
        "id": "_-nQp5ecXIJg"
      }
    },
    {
      "cell_type": "markdown",
      "source": [
        "## Comparing our models result using TensorBoard\n",
        "\n",
        "> **Note:** When you upload something to TensorBoard Dev, your experiments are public. So, if you're running private experiments. things you don't want others to see. Do not upload them to TensorBoaerd dev."
      ],
      "metadata": {
        "id": "kyveaybeWmZH"
      }
    },
    {
      "cell_type": "code",
      "source": [
        "# Upload TensorBoard Dev Records\n",
        "!tensorboard dev upload --logdir ./tensorflow_hub/ \\\n",
        " --name \"EfficientNetB0 vs. ResNet50V2\" \\\n",
        " --description \"Comparing two different TF hub feature extraction model architectures usiing 10% of the training data\" \\\n",
        " --one_shot"
      ],
      "metadata": {
        "id": "7p6DL5iZXIP4"
      },
      "execution_count": null,
      "outputs": []
    },
    {
      "cell_type": "markdown",
      "source": [
        "Our TensorBoard Experiments are uploaded publically here: https://tensorboard.dev/experiment/0XE76odJS0WXNinU1yztgw/"
      ],
      "metadata": {
        "id": "TmTV6dt-WmWU"
      }
    },
    {
      "cell_type": "code",
      "source": [
        "# Check out what TensorBoard experiments you have\n",
        "!tensorboard dev list"
      ],
      "metadata": {
        "colab": {
          "base_uri": "https://localhost:8080/"
        },
        "id": "6Gq28JS6qmFO",
        "outputId": "505888a7-89d5-449e-b8bc-80e838d58a9f"
      },
      "execution_count": 20,
      "outputs": [
        {
          "output_type": "stream",
          "name": "stdout",
          "text": [
            "https://tensorboard.dev/experiment/0XE76odJS0WXNinU1yztgw/\n",
            "\tName                 EfficientNetB0 vs. ResNet50V2\n",
            "\tDescription          Comparing two different TF hub feature extraction model architectures usiing 10% of the training data\n",
            "\tId                   0XE76odJS0WXNinU1yztgw\n",
            "\tCreated              2023-02-03 18:59:16 (5 minutes ago)\n",
            "\tUpdated              2023-02-03 18:59:18 (5 minutes ago)\n",
            "\tRuns                 4\n",
            "\tTags                 5\n",
            "\tScalars              60\n",
            "\tTensor bytes         0\n",
            "\tBinary object bytes  5794895\n",
            "Total: 1 experiment(s)\n"
          ]
        }
      ]
    },
    {
      "cell_type": "code",
      "source": [
        "# Delete an experiment\n",
        "# !tensorboard dev delete --experiment_id 0XE76odJS0WXNinU1yztgw"
      ],
      "metadata": {
        "id": "5LLFnCHAqtZU"
      },
      "execution_count": null,
      "outputs": []
    },
    {
      "cell_type": "code",
      "source": [
        "# Confirm the deletion by rechecking what you have \n",
        "!tensorboard dev list"
      ],
      "metadata": {
        "id": "hMF6RLP8rOlS"
      },
      "execution_count": null,
      "outputs": []
    }
  ]
}